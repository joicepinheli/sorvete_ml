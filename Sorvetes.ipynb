{
 "cells": [
  {
   "cell_type": "code",
   "execution_count": 19,
   "id": "ead5711b",
   "metadata": {},
   "outputs": [
    {
     "name": "stdout",
     "output_type": "stream",
     "text": [
      "Requirement already satisfied: azure-identity in c:\\users\\joice\\onedrive\\desktop\\projetos\\sorvete_ml\\.venv\\lib\\site-packages (1.25.0)\n",
      "Requirement already satisfied: azure-ai-ml in c:\\users\\joice\\onedrive\\desktop\\projetos\\sorvete_ml\\.venv\\lib\\site-packages (1.29.0)\n",
      "Requirement already satisfied: azure-core>=1.31.0 in c:\\users\\joice\\onedrive\\desktop\\projetos\\sorvete_ml\\.venv\\lib\\site-packages (from azure-identity) (1.35.1)\n",
      "Requirement already satisfied: cryptography>=2.5 in c:\\users\\joice\\onedrive\\desktop\\projetos\\sorvete_ml\\.venv\\lib\\site-packages (from azure-identity) (46.0.2)\n",
      "Requirement already satisfied: msal>=1.30.0 in c:\\users\\joice\\onedrive\\desktop\\projetos\\sorvete_ml\\.venv\\lib\\site-packages (from azure-identity) (1.34.0)\n",
      "Requirement already satisfied: msal-extensions>=1.2.0 in c:\\users\\joice\\onedrive\\desktop\\projetos\\sorvete_ml\\.venv\\lib\\site-packages (from azure-identity) (1.3.1)\n",
      "Requirement already satisfied: typing-extensions>=4.0.0 in c:\\users\\joice\\onedrive\\desktop\\projetos\\sorvete_ml\\.venv\\lib\\site-packages (from azure-identity) (4.15.0)\n",
      "Requirement already satisfied: pyyaml<7.0.0,>=5.1.0 in c:\\users\\joice\\onedrive\\desktop\\projetos\\sorvete_ml\\.venv\\lib\\site-packages (from azure-ai-ml) (6.0.3)\n",
      "Requirement already satisfied: azure-mgmt-core>=1.3.0 in c:\\users\\joice\\onedrive\\desktop\\projetos\\sorvete_ml\\.venv\\lib\\site-packages (from azure-ai-ml) (1.6.0)\n",
      "Requirement already satisfied: marshmallow<4.0.0,>=3.5 in c:\\users\\joice\\onedrive\\desktop\\projetos\\sorvete_ml\\.venv\\lib\\site-packages (from azure-ai-ml) (3.26.1)\n",
      "Requirement already satisfied: jsonschema<5.0.0,>=4.0.0 in c:\\users\\joice\\onedrive\\desktop\\projetos\\sorvete_ml\\.venv\\lib\\site-packages (from azure-ai-ml) (4.25.1)\n",
      "Requirement already satisfied: tqdm<5.0.0 in c:\\users\\joice\\onedrive\\desktop\\projetos\\sorvete_ml\\.venv\\lib\\site-packages (from azure-ai-ml) (4.67.1)\n",
      "Requirement already satisfied: strictyaml<2.0.0 in c:\\users\\joice\\onedrive\\desktop\\projetos\\sorvete_ml\\.venv\\lib\\site-packages (from azure-ai-ml) (1.7.3)\n",
      "Requirement already satisfied: colorama<1.0.0 in c:\\users\\joice\\onedrive\\desktop\\projetos\\sorvete_ml\\.venv\\lib\\site-packages (from azure-ai-ml) (0.4.6)\n",
      "Requirement already satisfied: pyjwt<3.0.0 in c:\\users\\joice\\onedrive\\desktop\\projetos\\sorvete_ml\\.venv\\lib\\site-packages (from azure-ai-ml) (2.10.1)\n",
      "Requirement already satisfied: azure-storage-blob>=12.10.0 in c:\\users\\joice\\onedrive\\desktop\\projetos\\sorvete_ml\\.venv\\lib\\site-packages (from azure-ai-ml) (12.26.0)\n",
      "Requirement already satisfied: azure-storage-file-share in c:\\users\\joice\\onedrive\\desktop\\projetos\\sorvete_ml\\.venv\\lib\\site-packages (from azure-ai-ml) (12.22.0)\n",
      "Requirement already satisfied: azure-storage-file-datalake>=12.2.0 in c:\\users\\joice\\onedrive\\desktop\\projetos\\sorvete_ml\\.venv\\lib\\site-packages (from azure-ai-ml) (12.21.0)\n",
      "Requirement already satisfied: pydash<9.0.0,>=6.0.0 in c:\\users\\joice\\onedrive\\desktop\\projetos\\sorvete_ml\\.venv\\lib\\site-packages (from azure-ai-ml) (8.0.5)\n",
      "Requirement already satisfied: isodate<1.0.0 in c:\\users\\joice\\onedrive\\desktop\\projetos\\sorvete_ml\\.venv\\lib\\site-packages (from azure-ai-ml) (0.7.2)\n",
      "Requirement already satisfied: azure-common>=1.1 in c:\\users\\joice\\onedrive\\desktop\\projetos\\sorvete_ml\\.venv\\lib\\site-packages (from azure-ai-ml) (1.1.28)\n",
      "Requirement already satisfied: azure-monitor-opentelemetry in c:\\users\\joice\\onedrive\\desktop\\projetos\\sorvete_ml\\.venv\\lib\\site-packages (from azure-ai-ml) (1.8.1)\n",
      "Requirement already satisfied: attrs>=22.2.0 in c:\\users\\joice\\onedrive\\desktop\\projetos\\sorvete_ml\\.venv\\lib\\site-packages (from jsonschema<5.0.0,>=4.0.0->azure-ai-ml) (25.3.0)\n",
      "Requirement already satisfied: jsonschema-specifications>=2023.03.6 in c:\\users\\joice\\onedrive\\desktop\\projetos\\sorvete_ml\\.venv\\lib\\site-packages (from jsonschema<5.0.0,>=4.0.0->azure-ai-ml) (2025.9.1)\n",
      "Requirement already satisfied: referencing>=0.28.4 in c:\\users\\joice\\onedrive\\desktop\\projetos\\sorvete_ml\\.venv\\lib\\site-packages (from jsonschema<5.0.0,>=4.0.0->azure-ai-ml) (0.36.2)\n",
      "Requirement already satisfied: rpds-py>=0.7.1 in c:\\users\\joice\\onedrive\\desktop\\projetos\\sorvete_ml\\.venv\\lib\\site-packages (from jsonschema<5.0.0,>=4.0.0->azure-ai-ml) (0.27.1)\n",
      "Requirement already satisfied: packaging>=17.0 in c:\\users\\joice\\onedrive\\desktop\\projetos\\sorvete_ml\\.venv\\lib\\site-packages (from marshmallow<4.0.0,>=3.5->azure-ai-ml) (25.0)\n",
      "Requirement already satisfied: python-dateutil>=2.6.0 in c:\\users\\joice\\onedrive\\desktop\\projetos\\sorvete_ml\\.venv\\lib\\site-packages (from strictyaml<2.0.0->azure-ai-ml) (2.9.0.post0)\n",
      "Requirement already satisfied: requests>=2.21.0 in c:\\users\\joice\\onedrive\\desktop\\projetos\\sorvete_ml\\.venv\\lib\\site-packages (from azure-core>=1.31.0->azure-identity) (2.32.5)\n",
      "Requirement already satisfied: six>=1.11.0 in c:\\users\\joice\\onedrive\\desktop\\projetos\\sorvete_ml\\.venv\\lib\\site-packages (from azure-core>=1.31.0->azure-identity) (1.17.0)\n",
      "Requirement already satisfied: cffi>=2.0.0 in c:\\users\\joice\\onedrive\\desktop\\projetos\\sorvete_ml\\.venv\\lib\\site-packages (from cryptography>=2.5->azure-identity) (2.0.0)\n",
      "Requirement already satisfied: pycparser in c:\\users\\joice\\onedrive\\desktop\\projetos\\sorvete_ml\\.venv\\lib\\site-packages (from cffi>=2.0.0->cryptography>=2.5->azure-identity) (2.23)\n",
      "Requirement already satisfied: charset_normalizer<4,>=2 in c:\\users\\joice\\onedrive\\desktop\\projetos\\sorvete_ml\\.venv\\lib\\site-packages (from requests>=2.21.0->azure-core>=1.31.0->azure-identity) (3.4.3)\n",
      "Requirement already satisfied: idna<4,>=2.5 in c:\\users\\joice\\onedrive\\desktop\\projetos\\sorvete_ml\\.venv\\lib\\site-packages (from requests>=2.21.0->azure-core>=1.31.0->azure-identity) (3.10)\n",
      "Requirement already satisfied: urllib3<3,>=1.21.1 in c:\\users\\joice\\onedrive\\desktop\\projetos\\sorvete_ml\\.venv\\lib\\site-packages (from requests>=2.21.0->azure-core>=1.31.0->azure-identity) (2.5.0)\n",
      "Requirement already satisfied: certifi>=2017.4.17 in c:\\users\\joice\\onedrive\\desktop\\projetos\\sorvete_ml\\.venv\\lib\\site-packages (from requests>=2.21.0->azure-core>=1.31.0->azure-identity) (2025.8.3)\n",
      "Requirement already satisfied: azure-core-tracing-opentelemetry~=1.0.0b11 in c:\\users\\joice\\onedrive\\desktop\\projetos\\sorvete_ml\\.venv\\lib\\site-packages (from azure-monitor-opentelemetry->azure-ai-ml) (1.0.0b12)\n",
      "Requirement already satisfied: azure-monitor-opentelemetry-exporter~=1.0.0b41 in c:\\users\\joice\\onedrive\\desktop\\projetos\\sorvete_ml\\.venv\\lib\\site-packages (from azure-monitor-opentelemetry->azure-ai-ml) (1.0.0b42)\n",
      "Requirement already satisfied: opentelemetry-sdk~=1.36 in c:\\users\\joice\\onedrive\\desktop\\projetos\\sorvete_ml\\.venv\\lib\\site-packages (from azure-monitor-opentelemetry->azure-ai-ml) (1.37.0)\n",
      "Requirement already satisfied: opentelemetry-instrumentation-django~=0.57b0 in c:\\users\\joice\\onedrive\\desktop\\projetos\\sorvete_ml\\.venv\\lib\\site-packages (from azure-monitor-opentelemetry->azure-ai-ml) (0.58b0)\n",
      "Requirement already satisfied: opentelemetry-instrumentation-fastapi~=0.57b0 in c:\\users\\joice\\onedrive\\desktop\\projetos\\sorvete_ml\\.venv\\lib\\site-packages (from azure-monitor-opentelemetry->azure-ai-ml) (0.58b0)\n",
      "Requirement already satisfied: opentelemetry-instrumentation-flask~=0.57b0 in c:\\users\\joice\\onedrive\\desktop\\projetos\\sorvete_ml\\.venv\\lib\\site-packages (from azure-monitor-opentelemetry->azure-ai-ml) (0.58b0)\n",
      "Requirement already satisfied: opentelemetry-instrumentation-psycopg2~=0.57b0 in c:\\users\\joice\\onedrive\\desktop\\projetos\\sorvete_ml\\.venv\\lib\\site-packages (from azure-monitor-opentelemetry->azure-ai-ml) (0.58b0)\n",
      "Requirement already satisfied: opentelemetry-instrumentation-requests~=0.57b0 in c:\\users\\joice\\onedrive\\desktop\\projetos\\sorvete_ml\\.venv\\lib\\site-packages (from azure-monitor-opentelemetry->azure-ai-ml) (0.58b0)\n",
      "Requirement already satisfied: opentelemetry-instrumentation-urllib~=0.57b0 in c:\\users\\joice\\onedrive\\desktop\\projetos\\sorvete_ml\\.venv\\lib\\site-packages (from azure-monitor-opentelemetry->azure-ai-ml) (0.58b0)\n",
      "Requirement already satisfied: opentelemetry-instrumentation-urllib3~=0.57b0 in c:\\users\\joice\\onedrive\\desktop\\projetos\\sorvete_ml\\.venv\\lib\\site-packages (from azure-monitor-opentelemetry->azure-ai-ml) (0.58b0)\n",
      "Requirement already satisfied: opentelemetry-resource-detector-azure~=0.1.5 in c:\\users\\joice\\onedrive\\desktop\\projetos\\sorvete_ml\\.venv\\lib\\site-packages (from azure-monitor-opentelemetry->azure-ai-ml) (0.1.5)\n",
      "Requirement already satisfied: opentelemetry-api>=1.12.0 in c:\\users\\joice\\onedrive\\desktop\\projetos\\sorvete_ml\\.venv\\lib\\site-packages (from azure-core-tracing-opentelemetry~=1.0.0b11->azure-monitor-opentelemetry->azure-ai-ml) (1.37.0)\n",
      "Requirement already satisfied: fixedint==0.1.6 in c:\\users\\joice\\onedrive\\desktop\\projetos\\sorvete_ml\\.venv\\lib\\site-packages (from azure-monitor-opentelemetry-exporter~=1.0.0b41->azure-monitor-opentelemetry->azure-ai-ml) (0.1.6)\n",
      "Requirement already satisfied: msrest>=0.6.10 in c:\\users\\joice\\onedrive\\desktop\\projetos\\sorvete_ml\\.venv\\lib\\site-packages (from azure-monitor-opentelemetry-exporter~=1.0.0b41->azure-monitor-opentelemetry->azure-ai-ml) (0.7.1)\n",
      "Requirement already satisfied: psutil<8,>=5.9 in c:\\users\\joice\\onedrive\\desktop\\projetos\\sorvete_ml\\.venv\\lib\\site-packages (from azure-monitor-opentelemetry-exporter~=1.0.0b41->azure-monitor-opentelemetry->azure-ai-ml) (7.1.0)\n",
      "Requirement already satisfied: importlib-metadata<8.8.0,>=6.0 in c:\\users\\joice\\onedrive\\desktop\\projetos\\sorvete_ml\\.venv\\lib\\site-packages (from opentelemetry-api>=1.12.0->azure-core-tracing-opentelemetry~=1.0.0b11->azure-monitor-opentelemetry->azure-ai-ml) (8.7.0)\n",
      "Requirement already satisfied: zipp>=3.20 in c:\\users\\joice\\onedrive\\desktop\\projetos\\sorvete_ml\\.venv\\lib\\site-packages (from importlib-metadata<8.8.0,>=6.0->opentelemetry-api>=1.12.0->azure-core-tracing-opentelemetry~=1.0.0b11->azure-monitor-opentelemetry->azure-ai-ml) (3.23.0)\n",
      "Requirement already satisfied: opentelemetry-instrumentation-wsgi==0.58b0 in c:\\users\\joice\\onedrive\\desktop\\projetos\\sorvete_ml\\.venv\\lib\\site-packages (from opentelemetry-instrumentation-django~=0.57b0->azure-monitor-opentelemetry->azure-ai-ml) (0.58b0)\n",
      "Requirement already satisfied: opentelemetry-instrumentation==0.58b0 in c:\\users\\joice\\onedrive\\desktop\\projetos\\sorvete_ml\\.venv\\lib\\site-packages (from opentelemetry-instrumentation-django~=0.57b0->azure-monitor-opentelemetry->azure-ai-ml) (0.58b0)\n",
      "Requirement already satisfied: opentelemetry-semantic-conventions==0.58b0 in c:\\users\\joice\\onedrive\\desktop\\projetos\\sorvete_ml\\.venv\\lib\\site-packages (from opentelemetry-instrumentation-django~=0.57b0->azure-monitor-opentelemetry->azure-ai-ml) (0.58b0)\n",
      "Requirement already satisfied: opentelemetry-util-http==0.58b0 in c:\\users\\joice\\onedrive\\desktop\\projetos\\sorvete_ml\\.venv\\lib\\site-packages (from opentelemetry-instrumentation-django~=0.57b0->azure-monitor-opentelemetry->azure-ai-ml) (0.58b0)\n",
      "Requirement already satisfied: wrapt<2.0.0,>=1.0.0 in c:\\users\\joice\\onedrive\\desktop\\projetos\\sorvete_ml\\.venv\\lib\\site-packages (from opentelemetry-instrumentation==0.58b0->opentelemetry-instrumentation-django~=0.57b0->azure-monitor-opentelemetry->azure-ai-ml) (1.17.3)\n",
      "Requirement already satisfied: opentelemetry-instrumentation-asgi==0.58b0 in c:\\users\\joice\\onedrive\\desktop\\projetos\\sorvete_ml\\.venv\\lib\\site-packages (from opentelemetry-instrumentation-fastapi~=0.57b0->azure-monitor-opentelemetry->azure-ai-ml) (0.58b0)\n",
      "Requirement already satisfied: asgiref~=3.0 in c:\\users\\joice\\onedrive\\desktop\\projetos\\sorvete_ml\\.venv\\lib\\site-packages (from opentelemetry-instrumentation-asgi==0.58b0->opentelemetry-instrumentation-fastapi~=0.57b0->azure-monitor-opentelemetry->azure-ai-ml) (3.9.2)\n",
      "Requirement already satisfied: opentelemetry-instrumentation-dbapi==0.58b0 in c:\\users\\joice\\onedrive\\desktop\\projetos\\sorvete_ml\\.venv\\lib\\site-packages (from opentelemetry-instrumentation-psycopg2~=0.57b0->azure-monitor-opentelemetry->azure-ai-ml) (0.58b0)\n",
      "Requirement already satisfied: requests-oauthlib>=0.5.0 in c:\\users\\joice\\onedrive\\desktop\\projetos\\sorvete_ml\\.venv\\lib\\site-packages (from msrest>=0.6.10->azure-monitor-opentelemetry-exporter~=1.0.0b41->azure-monitor-opentelemetry->azure-ai-ml) (2.0.0)\n",
      "Requirement already satisfied: oauthlib>=3.0.0 in c:\\users\\joice\\onedrive\\desktop\\projetos\\sorvete_ml\\.venv\\lib\\site-packages (from requests-oauthlib>=0.5.0->msrest>=0.6.10->azure-monitor-opentelemetry-exporter~=1.0.0b41->azure-monitor-opentelemetry->azure-ai-ml) (3.3.1)\n"
     ]
    },
    {
     "name": "stderr",
     "output_type": "stream",
     "text": [
      "DefaultAzureCredential failed to retrieve a token from the included credentials.\n",
      "Attempted credentials:\n",
      "\tEnvironmentCredential: EnvironmentCredential authentication unavailable. Environment variables are not fully configured.\n",
      "Visit https://aka.ms/azsdk/python/identity/environmentcredential/troubleshoot to troubleshoot this issue.\n",
      "\tWorkloadIdentityCredential: WorkloadIdentityCredential authentication unavailable. The workload options are not fully configured. See the troubleshooting guide for more information: https://aka.ms/azsdk/python/identity/workloadidentitycredential/troubleshoot. Missing required arguments: 'tenant_id', 'client_id', 'token_file_path'.\n",
      "\tManagedIdentityCredential: ManagedIdentityCredential authentication unavailable, no response from the IMDS endpoint.\n",
      "\tSharedTokenCacheCredential: SharedTokenCacheCredential authentication unavailable. No accounts were found in the cache.\n",
      "\tVisualStudioCodeCredential: VisualStudioCodeCredential requires the 'azure-identity-broker' package to be installed. You must also ensure you have the Azure Resources extension installed and have signed in to Azure via Visual Studio Code.\n",
      "\tAzureCliCredential: Azure CLI not found on path\n",
      "\tAzurePowerShellCredential: Az.Account module >= 2.2.0 is not installed\n",
      "\tAzureDeveloperCliCredential: Azure Developer CLI could not be found. Please visit https://aka.ms/azure-dev for installation instructions and then,once installed, authenticate to your Azure account using 'azd auth login'.\n",
      "\tBrokerCredential: InteractiveBrowserBrokerCredential unavailable. The 'azure-identity-broker' package is required to use brokered authentication.\n",
      "To mitigate this issue, please refer to the troubleshooting guidelines here at https://aka.ms/azsdk/python/identity/defaultazurecredential/troubleshoot.\n"
     ]
    }
   ],
   "source": [
    "!pip install azure-identity azure-ai-ml\n",
    "from azure.identity import DefaultAzureCredential, InteractiveBrowserCredential\n",
    "from azure.ai.ml import MLClient\n",
    "\n",
    "try: \n",
    "    credential = DefaultAzureCredential()\n",
    "    # Check if given credential can get token sucessfully.\n",
    "    credential.get_token (\"http://management.azure.com/.default\")\n",
    "except Exception as ex:\n",
    "    # Fall back to InteractiveBrowserCredential in case DefaultAzurecredential not work\n",
    "    credential = InteractiveBrowserCredential(tenant_id=\"d218e2b7-20ec-4a46-89fd-242b3b84adf2\")"
   ]
  },
  {
   "cell_type": "code",
   "execution_count": 20,
   "id": "d7be5b8f",
   "metadata": {},
   "outputs": [
    {
     "name": "stderr",
     "output_type": "stream",
     "text": [
      "Found the config file in: .\\config.json\n",
      "Overriding of current TracerProvider is not allowed\n",
      "Overriding of current LoggerProvider is not allowed\n",
      "Overriding of current MeterProvider is not allowed\n",
      "Attempting to instrument while already instrumented\n",
      "Attempting to instrument while already instrumented\n",
      "Attempting to instrument while already instrumented\n"
     ]
    }
   ],
   "source": [
    "#Get a handle to the workspace\n",
    "ml_client = MLClient.from_config (credential=credential) "
   ]
  },
  {
   "cell_type": "code",
   "execution_count": 21,
   "id": "89565ffa",
   "metadata": {},
   "outputs": [
    {
     "name": "stdout",
     "output_type": "stream",
     "text": [
      "Overwriting src/sorvetes-training.py\n"
     ]
    }
   ],
   "source": [
    "%%writefile src/sorvetes-training.py\n",
    "#import libraries\n",
    "import pandas as pd\n",
    "import numpy as np\n",
    "from sklearn.model_selection import train_test_split\n",
    "from sklearn.linear_model import LogisticRegression\n",
    "from sklearn.metrics import accuracy_score\n",
    "from sklearn.metrics import classification_report\n",
    "\n",
    "#load dataset sorvetes.csv\n",
    "print(\"Loading dataset...\")\n",
    "data = pd.read_csv(\"sorvetes.csv\")\n",
    "\n",
    "#split dataset into features and labels\n",
    "X, y = sorvetes[['Temperatura']].values, sorvetes['Vendas'].values\n",
    "\n",
    "#split dataset into training and testing sets\n",
    "X_train, X_test, y_train, y_test = train_test_split(X, y, test_size=0.2, random_state=0)\n",
    "\n",
    "#set regularization hyperparameter\n",
    "reg = 0.01\n",
    "\n",
    "#train a logistic regression model\n",
    "print('Training a logistic regression model with regularization rate of', reg)\n",
    "model = LogisticRegression(C=1/reg, solver='liblinear').fit(X__train, y_train)\n",
    "\n",
    "#calculate accuracy\n",
    "y_hat = model.predict(X_test)\n",
    "acc = np.avarage(y_hat == y_test)\n",
    "print('Accuracy is', acc)\n",
    "\n",
    "#calculate AUC\n",
    "y_scores = model.predict_proba(X_test)\n",
    "auc = roc_auc_score(y_test, y_scores[:,1])\n",
    "print('AUC: ' + str(auc))\n"
   ]
  },
  {
   "cell_type": "code",
   "execution_count": 24,
   "id": "c5d76fd0",
   "metadata": {},
   "outputs": [
    {
     "ename": "HttpResponseError",
     "evalue": "(UserError) Unknown compute target 'aml-cluster'.\nCode: UserError\nMessage: Unknown compute target 'aml-cluster'.\nAdditional Information:Type: ComponentName\nInfo: {\n    \"value\": \"managementfrontend\"\n}Type: Correlation\nInfo: {\n    \"value\": {\n        \"operation\": \"11700058bcf2b6db68ddf250482f1e24\",\n        \"request\": \"ca2c76c9f5786ccf\"\n    }\n}Type: Environment\nInfo: {\n    \"value\": \"eastus\"\n}Type: Location\nInfo: {\n    \"value\": \"eastus\"\n}Type: Time\nInfo: {\n    \"value\": \"2025-10-02T09:47:40.8435494+00:00\"\n}Type: InnerError\nInfo: {\n    \"value\": {\n        \"code\": \"BadArgument\",\n        \"innerError\": {\n            \"code\": \"UnknownTargetType\",\n            \"innerError\": null\n        }\n    }\n}",
     "output_type": "error",
     "traceback": [
      "\u001b[31m---------------------------------------------------------------------------\u001b[39m",
      "\u001b[31mHttpResponseError\u001b[39m                         Traceback (most recent call last)",
      "\u001b[36mCell\u001b[39m\u001b[36m \u001b[39m\u001b[32mIn[24]\u001b[39m\u001b[32m, line 16\u001b[39m\n\u001b[32m      4\u001b[39m job = command(\n\u001b[32m      5\u001b[39m     code=\u001b[33m\"\u001b[39m\u001b[33m./src\u001b[39m\u001b[33m\"\u001b[39m,\n\u001b[32m      6\u001b[39m     command=\u001b[33m\"\u001b[39m\u001b[33mpython sorvetes-training.py\u001b[39m\u001b[33m\"\u001b[39m,\n\u001b[32m   (...)\u001b[39m\u001b[32m     12\u001b[39m     \u001b[38;5;66;03m#instance_count=2,\u001b[39;00m\n\u001b[32m     13\u001b[39m )\n\u001b[32m     15\u001b[39m \u001b[38;5;66;03m#submit job\u001b[39;00m\n\u001b[32m---> \u001b[39m\u001b[32m16\u001b[39m returned_job = \u001b[43mml_client\u001b[49m\u001b[43m.\u001b[49m\u001b[43mcreate_or_update\u001b[49m\u001b[43m(\u001b[49m\u001b[43mjob\u001b[49m\u001b[43m)\u001b[49m \n\u001b[32m     17\u001b[39m aml_url = returned_job.studio_url\n\u001b[32m     18\u001b[39m \u001b[38;5;28mprint\u001b[39m(\u001b[33m'\u001b[39m\u001b[33mMonitor your job at\u001b[39m\u001b[33m'\u001b[39m, aml_url)\n",
      "\u001b[36mFile \u001b[39m\u001b[32mc:\\Users\\joice\\OneDrive\\Desktop\\Projetos\\Sorvete_ML\\.venv\\Lib\\site-packages\\azure\\ai\\ml\\_ml_client.py:1272\u001b[39m, in \u001b[36mMLClient.create_or_update\u001b[39m\u001b[34m(self, entity, **kwargs)\u001b[39m\n\u001b[32m   1256\u001b[39m \u001b[38;5;28;01mdef\u001b[39;00m\u001b[38;5;250m \u001b[39m\u001b[34mcreate_or_update\u001b[39m(\n\u001b[32m   1257\u001b[39m     \u001b[38;5;28mself\u001b[39m,\n\u001b[32m   1258\u001b[39m     entity: T,\n\u001b[32m   1259\u001b[39m     **kwargs,\n\u001b[32m   1260\u001b[39m ) -> T:\n\u001b[32m   1261\u001b[39m \u001b[38;5;250m    \u001b[39m\u001b[33;03m\"\"\"Creates or updates an Azure ML resource.\u001b[39;00m\n\u001b[32m   1262\u001b[39m \n\u001b[32m   1263\u001b[39m \u001b[33;03m    :param entity: The resource to create or update.\u001b[39;00m\n\u001b[32m   (...)\u001b[39m\u001b[32m   1269\u001b[39m \u001b[33;03m        , ~azure.ai.ml.entities.Environment, ~azure.ai.ml.entities.Component, ~azure.ai.ml.entities.Datastore]\u001b[39;00m\n\u001b[32m   1270\u001b[39m \u001b[33;03m    \"\"\"\u001b[39;00m\n\u001b[32m-> \u001b[39m\u001b[32m1272\u001b[39m     \u001b[38;5;28;01mreturn\u001b[39;00m \u001b[43m_create_or_update\u001b[49m\u001b[43m(\u001b[49m\u001b[43mentity\u001b[49m\u001b[43m,\u001b[49m\u001b[43m \u001b[49m\u001b[38;5;28;43mself\u001b[39;49m\u001b[43m.\u001b[49m\u001b[43m_operation_container\u001b[49m\u001b[43m.\u001b[49m\u001b[43mall_operations\u001b[49m\u001b[43m,\u001b[49m\u001b[43m \u001b[49m\u001b[43m*\u001b[49m\u001b[43m*\u001b[49m\u001b[43mkwargs\u001b[49m\u001b[43m)\u001b[49m\n",
      "\u001b[36mFile \u001b[39m\u001b[32m~\\AppData\\Local\\Programs\\Python\\Python313\\Lib\\functools.py:934\u001b[39m, in \u001b[36msingledispatch.<locals>.wrapper\u001b[39m\u001b[34m(*args, **kw)\u001b[39m\n\u001b[32m    931\u001b[39m \u001b[38;5;28;01mif\u001b[39;00m \u001b[38;5;129;01mnot\u001b[39;00m args:\n\u001b[32m    932\u001b[39m     \u001b[38;5;28;01mraise\u001b[39;00m \u001b[38;5;167;01mTypeError\u001b[39;00m(\u001b[33mf\u001b[39m\u001b[33m'\u001b[39m\u001b[38;5;132;01m{\u001b[39;00mfuncname\u001b[38;5;132;01m}\u001b[39;00m\u001b[33m requires at least \u001b[39m\u001b[33m'\u001b[39m\n\u001b[32m    933\u001b[39m                     \u001b[33m'\u001b[39m\u001b[33m1 positional argument\u001b[39m\u001b[33m'\u001b[39m)\n\u001b[32m--> \u001b[39m\u001b[32m934\u001b[39m \u001b[38;5;28;01mreturn\u001b[39;00m \u001b[43mdispatch\u001b[49m\u001b[43m(\u001b[49m\u001b[43margs\u001b[49m\u001b[43m[\u001b[49m\u001b[32;43m0\u001b[39;49m\u001b[43m]\u001b[49m\u001b[43m.\u001b[49m\u001b[34;43m__class__\u001b[39;49m\u001b[43m)\u001b[49m\u001b[43m(\u001b[49m\u001b[43m*\u001b[49m\u001b[43margs\u001b[49m\u001b[43m,\u001b[49m\u001b[43m \u001b[49m\u001b[43m*\u001b[49m\u001b[43m*\u001b[49m\u001b[43mkw\u001b[49m\u001b[43m)\u001b[49m\n",
      "\u001b[36mFile \u001b[39m\u001b[32mc:\\Users\\joice\\OneDrive\\Desktop\\Projetos\\Sorvete_ML\\.venv\\Lib\\site-packages\\azure\\ai\\ml\\_ml_client.py:1331\u001b[39m, in \u001b[36m_\u001b[39m\u001b[34m(entity, operations, **kwargs)\u001b[39m\n\u001b[32m   1328\u001b[39m \u001b[38;5;129m@_create_or_update\u001b[39m.register(Job)\n\u001b[32m   1329\u001b[39m \u001b[38;5;28;01mdef\u001b[39;00m\u001b[38;5;250m \u001b[39m\u001b[34m_\u001b[39m(entity: Job, operations, **kwargs):\n\u001b[32m   1330\u001b[39m     module_logger.debug(\u001b[33m\"\u001b[39m\u001b[33mCreating or updating job\u001b[39m\u001b[33m\"\u001b[39m)\n\u001b[32m-> \u001b[39m\u001b[32m1331\u001b[39m     \u001b[38;5;28;01mreturn\u001b[39;00m \u001b[43moperations\u001b[49m\u001b[43m[\u001b[49m\u001b[43mAzureMLResourceType\u001b[49m\u001b[43m.\u001b[49m\u001b[43mJOB\u001b[49m\u001b[43m]\u001b[49m\u001b[43m.\u001b[49m\u001b[43mcreate_or_update\u001b[49m\u001b[43m(\u001b[49m\u001b[43mentity\u001b[49m\u001b[43m,\u001b[49m\u001b[43m \u001b[49m\u001b[43m*\u001b[49m\u001b[43m*\u001b[49m\u001b[43mkwargs\u001b[49m\u001b[43m)\u001b[49m\n",
      "\u001b[36mFile \u001b[39m\u001b[32mc:\\Users\\joice\\OneDrive\\Desktop\\Projetos\\Sorvete_ML\\.venv\\Lib\\site-packages\\azure\\core\\tracing\\decorator.py:138\u001b[39m, in \u001b[36mdistributed_trace.<locals>.decorator.<locals>.wrapper_use_tracer\u001b[39m\u001b[34m(*args, **kwargs)\u001b[39m\n\u001b[32m    136\u001b[39m             \u001b[38;5;28;01mfor\u001b[39;00m key, value \u001b[38;5;129;01min\u001b[39;00m span_attributes.items():\n\u001b[32m    137\u001b[39m                 span.add_attribute(key, value)  \u001b[38;5;66;03m# type: ignore\u001b[39;00m\n\u001b[32m--> \u001b[39m\u001b[32m138\u001b[39m             \u001b[38;5;28;01mreturn\u001b[39;00m \u001b[43mfunc\u001b[49m\u001b[43m(\u001b[49m\u001b[43m*\u001b[49m\u001b[43margs\u001b[49m\u001b[43m,\u001b[49m\u001b[43m \u001b[49m\u001b[43m*\u001b[49m\u001b[43m*\u001b[49m\u001b[43mkwargs\u001b[49m\u001b[43m)\u001b[49m\n\u001b[32m    139\u001b[39m \u001b[38;5;28;01melse\u001b[39;00m:\n\u001b[32m    140\u001b[39m     \u001b[38;5;66;03m# Native path\u001b[39;00m\n\u001b[32m    141\u001b[39m     config = {}\n",
      "\u001b[36mFile \u001b[39m\u001b[32mc:\\Users\\joice\\OneDrive\\Desktop\\Projetos\\Sorvete_ML\\.venv\\Lib\\site-packages\\azure\\ai\\ml\\_telemetry\\activity.py:371\u001b[39m, in \u001b[36mmonitor_with_telemetry_mixin.<locals>.monitor.<locals>.wrapper\u001b[39m\u001b[34m(*args, **kwargs)\u001b[39m\n\u001b[32m    369\u001b[39m dimensions = {**parameter_dimensions, **(custom_dimensions \u001b[38;5;129;01mor\u001b[39;00m {})}\n\u001b[32m    370\u001b[39m \u001b[38;5;28;01mwith\u001b[39;00m log_activity(logger, activity_name \u001b[38;5;129;01mor\u001b[39;00m f.\u001b[34m__name__\u001b[39m, activity_type, dimensions) \u001b[38;5;28;01mas\u001b[39;00m activityLogger:\n\u001b[32m--> \u001b[39m\u001b[32m371\u001b[39m     return_value = \u001b[43mf\u001b[49m\u001b[43m(\u001b[49m\u001b[43m*\u001b[49m\u001b[43margs\u001b[49m\u001b[43m,\u001b[49m\u001b[43m \u001b[49m\u001b[43m*\u001b[49m\u001b[43m*\u001b[49m\u001b[43mkwargs\u001b[49m\u001b[43m)\u001b[49m\n\u001b[32m    372\u001b[39m     \u001b[38;5;28;01mif\u001b[39;00m \u001b[38;5;129;01mnot\u001b[39;00m parameter_dimensions:\n\u001b[32m    373\u001b[39m         \u001b[38;5;66;03m# collect from return if no dimensions from parameter\u001b[39;00m\n\u001b[32m    374\u001b[39m         activityLogger.activity_info.update(_collect_from_return_value(return_value))\n",
      "\u001b[36mFile \u001b[39m\u001b[32mc:\\Users\\joice\\OneDrive\\Desktop\\Projetos\\Sorvete_ML\\.venv\\Lib\\site-packages\\azure\\ai\\ml\\operations\\_job_operations.py:713\u001b[39m, in \u001b[36mJobOperations.create_or_update\u001b[39m\u001b[34m(self, job, description, compute, tags, experiment_name, skip_validation, **kwargs)\u001b[39m\n\u001b[32m    707\u001b[39m \u001b[38;5;28;01mif\u001b[39;00m (rest_job_resource.properties.job_type == RestJobType.PIPELINE) \u001b[38;5;129;01mor\u001b[39;00m (\n\u001b[32m    708\u001b[39m     \u001b[38;5;28mhasattr\u001b[39m(rest_job_resource.properties, \u001b[33m\"\u001b[39m\u001b[33midentity\u001b[39m\u001b[33m\"\u001b[39m)\n\u001b[32m    709\u001b[39m     \u001b[38;5;129;01mand\u001b[39;00m (\u001b[38;5;28misinstance\u001b[39m(rest_job_resource.properties.identity, UserIdentity))\n\u001b[32m    710\u001b[39m ):\n\u001b[32m    711\u001b[39m     \u001b[38;5;28mself\u001b[39m._set_headers_with_user_aml_token(kwargs)\n\u001b[32m--> \u001b[39m\u001b[32m713\u001b[39m result = \u001b[38;5;28;43mself\u001b[39;49m\u001b[43m.\u001b[49m\u001b[43m_create_or_update_with_different_version_api\u001b[49m\u001b[43m(\u001b[49m\u001b[43mrest_job_resource\u001b[49m\u001b[43m=\u001b[49m\u001b[43mrest_job_resource\u001b[49m\u001b[43m,\u001b[49m\u001b[43m \u001b[49m\u001b[43m*\u001b[49m\u001b[43m*\u001b[49m\u001b[43mkwargs\u001b[49m\u001b[43m)\u001b[49m\n\u001b[32m    715\u001b[39m \u001b[38;5;28;01mif\u001b[39;00m is_local_run(result):\n\u001b[32m    716\u001b[39m     ws_base_url = \u001b[38;5;28mself\u001b[39m._all_operations.all_operations[\n\u001b[32m    717\u001b[39m         AzureMLResourceType.WORKSPACE\n\u001b[32m    718\u001b[39m     ]._operation._client._base_url\n",
      "\u001b[36mFile \u001b[39m\u001b[32mc:\\Users\\joice\\OneDrive\\Desktop\\Projetos\\Sorvete_ML\\.venv\\Lib\\site-packages\\azure\\ai\\ml\\operations\\_job_operations.py:761\u001b[39m, in \u001b[36mJobOperations._create_or_update_with_different_version_api\u001b[39m\u001b[34m(self, rest_job_resource, **kwargs)\u001b[39m\n\u001b[32m    758\u001b[39m \u001b[38;5;28;01mif\u001b[39;00m rest_job_resource.properties.job_type == RestJobType.COMMAND:\n\u001b[32m    759\u001b[39m     service_client_operation = \u001b[38;5;28mself\u001b[39m.service_client_01_2025_preview.jobs\n\u001b[32m--> \u001b[39m\u001b[32m761\u001b[39m result = \u001b[43mservice_client_operation\u001b[49m\u001b[43m.\u001b[49m\u001b[43mcreate_or_update\u001b[49m\u001b[43m(\u001b[49m\n\u001b[32m    762\u001b[39m \u001b[43m    \u001b[49m\u001b[38;5;28;43mid\u001b[39;49m\u001b[43m=\u001b[49m\u001b[43mrest_job_resource\u001b[49m\u001b[43m.\u001b[49m\u001b[43mname\u001b[49m\u001b[43m,\u001b[49m\n\u001b[32m    763\u001b[39m \u001b[43m    \u001b[49m\u001b[43mresource_group_name\u001b[49m\u001b[43m=\u001b[49m\u001b[38;5;28;43mself\u001b[39;49m\u001b[43m.\u001b[49m\u001b[43m_operation_scope\u001b[49m\u001b[43m.\u001b[49m\u001b[43mresource_group_name\u001b[49m\u001b[43m,\u001b[49m\n\u001b[32m    764\u001b[39m \u001b[43m    \u001b[49m\u001b[43mworkspace_name\u001b[49m\u001b[43m=\u001b[49m\u001b[38;5;28;43mself\u001b[39;49m\u001b[43m.\u001b[49m\u001b[43m_workspace_name\u001b[49m\u001b[43m,\u001b[49m\n\u001b[32m    765\u001b[39m \u001b[43m    \u001b[49m\u001b[43mbody\u001b[49m\u001b[43m=\u001b[49m\u001b[43mrest_job_resource\u001b[49m\u001b[43m,\u001b[49m\n\u001b[32m    766\u001b[39m \u001b[43m    \u001b[49m\u001b[43m*\u001b[49m\u001b[43m*\u001b[49m\u001b[43mkwargs\u001b[49m\u001b[43m,\u001b[49m\n\u001b[32m    767\u001b[39m \u001b[43m\u001b[49m\u001b[43m)\u001b[49m\n\u001b[32m    769\u001b[39m \u001b[38;5;28;01mreturn\u001b[39;00m result\n",
      "\u001b[36mFile \u001b[39m\u001b[32mc:\\Users\\joice\\OneDrive\\Desktop\\Projetos\\Sorvete_ML\\.venv\\Lib\\site-packages\\azure\\core\\tracing\\decorator.py:138\u001b[39m, in \u001b[36mdistributed_trace.<locals>.decorator.<locals>.wrapper_use_tracer\u001b[39m\u001b[34m(*args, **kwargs)\u001b[39m\n\u001b[32m    136\u001b[39m             \u001b[38;5;28;01mfor\u001b[39;00m key, value \u001b[38;5;129;01min\u001b[39;00m span_attributes.items():\n\u001b[32m    137\u001b[39m                 span.add_attribute(key, value)  \u001b[38;5;66;03m# type: ignore\u001b[39;00m\n\u001b[32m--> \u001b[39m\u001b[32m138\u001b[39m             \u001b[38;5;28;01mreturn\u001b[39;00m \u001b[43mfunc\u001b[49m\u001b[43m(\u001b[49m\u001b[43m*\u001b[49m\u001b[43margs\u001b[49m\u001b[43m,\u001b[49m\u001b[43m \u001b[49m\u001b[43m*\u001b[49m\u001b[43m*\u001b[49m\u001b[43mkwargs\u001b[49m\u001b[43m)\u001b[49m\n\u001b[32m    139\u001b[39m \u001b[38;5;28;01melse\u001b[39;00m:\n\u001b[32m    140\u001b[39m     \u001b[38;5;66;03m# Native path\u001b[39;00m\n\u001b[32m    141\u001b[39m     config = {}\n",
      "\u001b[36mFile \u001b[39m\u001b[32mc:\\Users\\joice\\OneDrive\\Desktop\\Projetos\\Sorvete_ML\\.venv\\Lib\\site-packages\\azure\\ai\\ml\\_restclient\\v2025_01_01_preview\\operations\\_jobs_operations.py:632\u001b[39m, in \u001b[36mJobsOperations.create_or_update\u001b[39m\u001b[34m(self, resource_group_name, workspace_name, id, body, **kwargs)\u001b[39m\n\u001b[32m    630\u001b[39m     map_error(status_code=response.status_code, response=response, error_map=error_map)\n\u001b[32m    631\u001b[39m     error = \u001b[38;5;28mself\u001b[39m._deserialize.failsafe_deserialize(_models.ErrorResponse, pipeline_response)\n\u001b[32m--> \u001b[39m\u001b[32m632\u001b[39m     \u001b[38;5;28;01mraise\u001b[39;00m HttpResponseError(response=response, model=error, error_format=ARMErrorFormat)\n\u001b[32m    634\u001b[39m \u001b[38;5;28;01mif\u001b[39;00m response.status_code == \u001b[32m200\u001b[39m:\n\u001b[32m    635\u001b[39m     deserialized = \u001b[38;5;28mself\u001b[39m._deserialize(\u001b[33m'\u001b[39m\u001b[33mJobBase\u001b[39m\u001b[33m'\u001b[39m, pipeline_response)\n",
      "\u001b[31mHttpResponseError\u001b[39m: (UserError) Unknown compute target 'aml-cluster'.\nCode: UserError\nMessage: Unknown compute target 'aml-cluster'.\nAdditional Information:Type: ComponentName\nInfo: {\n    \"value\": \"managementfrontend\"\n}Type: Correlation\nInfo: {\n    \"value\": {\n        \"operation\": \"11700058bcf2b6db68ddf250482f1e24\",\n        \"request\": \"ca2c76c9f5786ccf\"\n    }\n}Type: Environment\nInfo: {\n    \"value\": \"eastus\"\n}Type: Location\nInfo: {\n    \"value\": \"eastus\"\n}Type: Time\nInfo: {\n    \"value\": \"2025-10-02T09:47:40.8435494+00:00\"\n}Type: InnerError\nInfo: {\n    \"value\": {\n        \"code\": \"BadArgument\",\n        \"innerError\": {\n            \"code\": \"UnknownTargetType\",\n            \"innerError\": null\n        }\n    }\n}"
     ]
    }
   ],
   "source": [
    "from azure.ai.ml import command\n",
    "\n",
    "#config job\n",
    "job = command(\n",
    "    code=\"./src\",\n",
    "    command=\"python sorvetes-training.py\",\n",
    "    environment=\"AzureML-sklearn-1.0-ubuntu20.04-py38-cpu@latest\",\n",
    "    compute=\"aml-cluster\",\n",
    "    experiment_name=\"sorvetes-training\",\n",
    "    display_name=\"sorvetes-pythonv2-train\",\n",
    "    #description=\"Train a logistic regression model to predict ice cream sales based on temperature\",\n",
    "    #instance_count=2,\n",
    ")\n",
    "\n",
    "#submit job\n",
    "returned_job = ml_client.create_or_update(job) \n",
    "aml_url = returned_job.studio_url\n",
    "print('Monitor your job at', aml_url)"
   ]
  }
 ],
 "metadata": {
  "kernelspec": {
   "display_name": ".venv (3.13.7)",
   "language": "python",
   "name": "python3"
  },
  "language_info": {
   "codemirror_mode": {
    "name": "ipython",
    "version": 3
   },
   "file_extension": ".py",
   "mimetype": "text/x-python",
   "name": "python",
   "nbconvert_exporter": "python",
   "pygments_lexer": "ipython3",
   "version": "3.13.7"
  }
 },
 "nbformat": 4,
 "nbformat_minor": 5
}
